{
 "cells": [
  {
   "cell_type": "markdown",
   "metadata": {},
   "source": [
    "## Generate Simulated Data"
   ]
  },
  {
   "cell_type": "code",
   "execution_count": 1,
   "metadata": {
    "collapsed": true
   },
   "outputs": [],
   "source": [
    "import numpy as np\n",
    "import pandas as pd\n",
    "import matplotlib as mpl\n",
    "import matplotlib.pyplot as plt"
   ]
  },
  {
   "cell_type": "code",
   "execution_count": 2,
   "metadata": {},
   "outputs": [],
   "source": [
    "def MakeColumnNames(col):\n",
    "    columnNames = []\n",
    "    for i in range(col):\n",
    "        columnNames.append(\"x\"+str(i+1))\n",
    "    columnNames.append(\"label\")\n",
    "    return columnNames\n",
    "\n",
    "def SimulatedDataGenerator(col=2,k=3,nums=[50,65,52],cores=[]):\n",
    "    # col: Number of columns (features) \n",
    "    # k: Number of classes\n",
    "    # nums: Array, sample numbers of each class\n",
    "    # cores: Array, core coordinate of each class\n",
    "    dataSet = np.zeros((sum(nums),col+1))\n",
    "    \n",
    "    index = 0\n",
    "    step = 20/k\n",
    "    for i in range(k):\n",
    "        try:\n",
    "            core = cores[i]\n",
    "        except IndexError:\n",
    "            core = np.random.rand(1,3)\n",
    "            core[0][0] = i*step + core[0][0]*step\n",
    "            core[0][1] *= 15\n",
    "            core[0][2] = i\n",
    "            cores.append(core)\n",
    "            \n",
    "            for j in range(nums[i]):\n",
    "                dot = core[0][:2] + np.random.rand(1,2)*step - step/2\n",
    "                row = np.column_stack((dot,core[0][2]))\n",
    "                dataSet[index] = row\n",
    "                index += 1\n",
    "                \n",
    "    columnNames = MakeColumnNames(col)   \n",
    "    dataSet = pd.DataFrame(dataSet,columns=columnNames)\n",
    "    return dataSet\n",
    "    "
   ]
  },
  {
   "cell_type": "code",
   "execution_count": 3,
   "metadata": {},
   "outputs": [],
   "source": [
    "dataSet = SimulatedDataGenerator()"
   ]
  },
  {
   "cell_type": "markdown",
   "metadata": {},
   "source": [
    "## Data Visualization"
   ]
  },
  {
   "cell_type": "code",
   "execution_count": 4,
   "metadata": {},
   "outputs": [],
   "source": [
    "import numpy as np\n",
    "import pandas as pd\n",
    "import matplotlib as mpl\n",
    "import matplotlib.pyplot as plt"
   ]
  },
  {
   "cell_type": "code",
   "execution_count": 56,
   "metadata": {},
   "outputs": [],
   "source": [
    "def visualizeDots(dataSet):\n",
    "    # dataSet: pandas.DataFrame\n",
    "    # k: number of classes\n",
    "    colors = ['blue','green','yellow','red','oringe','pink','grey']\n",
    "    \n",
    "    fig = plt.figure()\n",
    "    ax = fig.add_subplot(1,1,1) \n",
    "    ax.set_title(\"Simulated Data\")\n",
    "    plt.xlabel('x')\n",
    "    plt.ylabel('y')\n",
    "    \n",
    "    dataSet = pd.DataFrame(dataSet)\n",
    "    labels = list(np.unique(dataSet.label.values))\n",
    "    for lab in labels:\n",
    "        lab = int(lab)\n",
    "        subSet = dataSet[dataSet.label == lab]\n",
    "        plt.scatter(subSet.x1,subSet.x2,label=lab,c=colors[lab],alpha=0.5,s=10)\n",
    "    plt.legend()\n",
    "    plt.show()   \n",
    "      "
   ]
  },
  {
   "cell_type": "code",
   "execution_count": 57,
   "metadata": {},
   "outputs": [
    {
     "data": {
      "image/png": "[encoded data removed]",
      "text/plain": [
       "<matplotlib.figure.Figure at 0x110478e48>"
      ]
     },
     "metadata": {},
     "output_type": "display_data"
    }
   ],
   "source": [
    "visualizeDots(dataSet)"
   ]
  },
  {
   "cell_type": "markdown",
   "metadata": {},
   "source": [
    "## KNN Algorithm"
   ]
  },
  {
   "cell_type": "code",
   "execution_count": 7,
   "metadata": {},
   "outputs": [],
   "source": [
    "import numpy as np\n",
    "import pandas as pd\n",
    "import matplotlib as mpl\n",
    "import matplotlib.pyplot as plt"
   ]
  },
  {
   "cell_type": "code",
   "execution_count": 67,
   "metadata": {},
   "outputs": [],
   "source": [
    "def distanceCal(dot1,dot2):\n",
    "    # dot1: [x1,y1], coordinate of dot1\n",
    "    # dot2: [x2,y2], coordinate of dot2\n",
    "    dist = np.sqrt((dot1[0]-dot2[0])**2+(dot1[1]-dot2[1])**2)\n",
    "    return dist\n",
    "\n",
    "def visualizeDots(dataSet,inputd):\n",
    "    # dataSet: pandas.DataFrame\n",
    "    # k: number of classes\n",
    "    colors = ['blue','green','yellow','red','oringe','pink','grey']\n",
    "    \n",
    "    fig = plt.figure()\n",
    "    ax = fig.add_subplot(1,1,1) \n",
    "    ax.set_title(\"Simulated Data\")\n",
    "    plt.xlabel('x')\n",
    "    plt.ylabel('y')\n",
    "    plt.xlim(0,25)\n",
    "    plt.ylim(0,20)\n",
    "    \n",
    "    dataSet = pd.DataFrame(dataSet)\n",
    "    labels = list(np.unique(dataSet.label.values))\n",
    "    for lab in labels:\n",
    "        lab = int(lab)\n",
    "        subSet = dataSet[dataSet.label == lab]\n",
    "        plt.scatter(subSet.x1,subSet.x2,label=lab,c=colors[lab],alpha=0.5,s=10)\n",
    "    plt.scatter(inputd[0],inputd[1],label=\"InputData\",c='black',s=20)\n",
    "    plt.legend()\n",
    "    plt.show()    \n",
    "\n",
    "def KnnClassifier(dataSet,inputd,maxd=5):\n",
    "    # dataSet: pandas.DataFrame, trainning dataset\n",
    "    # inputd: [x,y], input data\n",
    "    # maxd: max distance, default 5\n",
    "    distances = {}\n",
    "    \n",
    "    dataSetn = dataSet.values\n",
    "    nrow = dataSetn.shape[0]\n",
    "    for i in range(nrow):\n",
    "        x1,x2,label = dataSetn[i]\n",
    "        distance = distanceCal([x1,x2],inputd)\n",
    "        if distance <= maxd:\n",
    "            if not label in distances.keys():\n",
    "                distances[label] = distance\n",
    "            else:\n",
    "                distances[label] += distance\n",
    "    \n",
    "    predict = max(distances, key=lambda k: distances[k])\n",
    "    \n",
    "    visualizeDots(dataSet,inputd)\n",
    "    \n",
    "    return predict\n"
   ]
  },
  {
   "cell_type": "code",
   "execution_count": 70,
   "metadata": {},
   "outputs": [
    {
     "data": {
      "image/png": "[encoded data removed]",
      "text/plain": [
       "<matplotlib.figure.Figure at 0x10fcd3e10>"
      ]
     },
     "metadata": {},
     "output_type": "display_data"
    },
    {
     "data": {
      "text/plain": [
       "1.0"
      ]
     },
     "execution_count": 70,
     "metadata": {},
     "output_type": "execute_result"
    }
   ],
   "source": [
    "KnnClassifier(dataSet,[10,14.5])"
   ]
  }
 ],
 "metadata": {
  "kernelspec": {
   "display_name": "Python 3",
   "language": "python",
   "name": "python3"
  },
  "language_info": {
   "codemirror_mode": {
    "name": "ipython",
    "version": 3
   },
   "file_extension": ".py",
   "mimetype": "text/x-python",
   "name": "python",
   "nbconvert_exporter": "python",
   "pygments_lexer": "ipython3",
   "version": "3.6.1"
  }
 },
 "nbformat": 4,
 "nbformat_minor": 2
}
